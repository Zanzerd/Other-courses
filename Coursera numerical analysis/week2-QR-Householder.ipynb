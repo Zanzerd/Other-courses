{
 "cells": [
  {
   "cell_type": "code",
   "execution_count": 1,
   "metadata": {},
   "outputs": [],
   "source": [
    "import numpy as np\n",
    "\n",
    "from numpy.testing import assert_allclose"
   ]
  },
  {
   "cell_type": "markdown",
   "metadata": {},
   "source": [
    "# Part I. Construct a Householder reflection of a vector."
   ]
  },
  {
   "cell_type": "markdown",
   "metadata": {},
   "source": [
    "Given a vector $\\mathbf{x}$, and a plane with a normal vector $\\mathbf{u}$, the Householder transformation reflects $\\mathbf{x}$ about the plane.\n",
    "\n",
    "The matrix of the Householder transformation is\n",
    "\n",
    "$$\n",
    "\\mathbf{H} = \\mathbf{1} - 2 \\mathbf{u} \\mathbf{u}^T\n",
    "$$\n",
    "\n",
    "Given two equal-length vectors $\\mathbf{x}$ and $\\mathbf{y}$, a rotation which brings $\\mathbf{x}$ to $\\mathbf{y}$ is a Householder transform with\n",
    "\n",
    "$$\n",
    "\\mathbf{u} = \\frac{\\mathbf{x} - \\mathbf{y}}{\\left|\\mathbf{x} - \\mathbf{y}\\right|}\n",
    "$$"
   ]
  },
  {
   "cell_type": "markdown",
   "metadata": {},
   "source": [
    "Write a function which rotates a given vector, $\\mathbf{x} = (x_1, \\dots, x_n)$ into $\\mathbf{y} = (\\left|\\mathbf{x}\\right|, 0, \\dots, 0)^T$ using a Householder transformation."
   ]
  },
  {
   "cell_type": "code",
   "execution_count": 79,
   "metadata": {},
   "outputs": [],
   "source": [
    "def householder(vec):\n",
    "    \"\"\"Construct a Householder reflection to zero out 2nd and further components of a vector.\n",
    "\n",
    "    Parameters\n",
    "    ----------\n",
    "    vec : array-like of floats, shape (n,)\n",
    "        Input vector\n",
    "    \n",
    "    Returns\n",
    "    -------\n",
    "    outvec : array of floats, shape (n,)\n",
    "        Transformed vector, with ``outvec[1:]==0`` and ``|outvec| == |vec|``\n",
    "    H : array of floats, shape (n, n)\n",
    "        Orthogonal matrix of the Householder reflection\n",
    "    \"\"\"\n",
    "    vec = np.asarray(vec, dtype = float)\n",
    "    if vec.ndim != 1:\n",
    "        raise ValueError(\"vec.ndim = %s, expected 1\" % vec.ndim)\n",
    "    m = vec.shape[0]\n",
    "    vec = vec.reshape((m, 1)) #had to expand dims to use np.transpose\n",
    "    if m == 1:\n",
    "        e = np.asarray([1])\n",
    "        e = e.reshape((e.shape[0], 1))\n",
    "        return np.asarray(vec), e\n",
    "    xlen = length(vec)\n",
    "    y = np.zeros(vec.shape, dtype = float)\n",
    "    y[0] = xlen\n",
    "    \n",
    "    numerator = 0 #avoiding the roundoff error\n",
    "    for xi in vec[1:]:\n",
    "        numerator -= (xi**2)\n",
    "    denominator = vec[0] + xlen\n",
    "    diff_x1_y = numerator/denominator\n",
    "    diff_rest = vec[1:]\n",
    "    diff = np.insert(diff_rest, 0, diff_x1_y)\n",
    "    difflen = length(diff)\n",
    "    \n",
    "    u = np.divide(diff, difflen)\n",
    "    u = u.reshape(m, 1)\n",
    "    ut = np.transpose(u)\n",
    "    one = np.eye(m, dtype = float)\n",
    "    H = one - np.dot(2,(np.dot(u, ut)))\n",
    "    #print(H)\n",
    "    Hx = np.dot(H, vec)\n",
    "    #print(Hx)\n",
    "    return Hx, H #could've returned y, it's equal to Hx\n",
    "    \n",
    "def length(vec):\n",
    "    xlen = 0 \n",
    "    for xi in vec:\n",
    "        xlen += (xi**2)\n",
    "    xlen = np.sqrt(xlen)\n",
    "    return xlen\n"
   ]
  },
  {
   "cell_type": "code",
   "execution_count": 3,
   "metadata": {},
   "outputs": [
    {
     "name": "stdout",
     "output_type": "stream",
     "text": [
      "2.23606797749979\n",
      "[[2.23606798e+00]\n",
      " [3.33066907e-16]\n",
      " [2.77555756e-16]\n",
      " [2.77555756e-16]\n",
      " [3.33066907e-16]]\n"
     ]
    }
   ],
   "source": [
    "vector = np.zeros((5,), dtype = float)\n",
    "vector[:] = 1\n",
    "print(length(vector))\n",
    "#print(vector)\n",
    "y, H = householder(vector)\n",
    "print(y)\n"
   ]
  },
  {
   "cell_type": "markdown",
   "metadata": {},
   "source": [
    "Test your function using tests below:"
   ]
  },
  {
   "cell_type": "code",
   "execution_count": 4,
   "metadata": {},
   "outputs": [],
   "source": [
    "# Test I.1 (10% of the total grade).\n",
    "np.set_printoptions(suppress=True)\n",
    "v = np.array([1, 2, 3])\n",
    "v1, h = householder(v)\n",
    "v = v.reshape((v.shape[0], 1))\n",
    "\n",
    "assert_allclose(np.dot(h, v1), v)\n",
    "assert_allclose(np.dot(h, v), v1)"
   ]
  },
  {
   "cell_type": "code",
   "execution_count": 5,
   "metadata": {},
   "outputs": [],
   "source": [
    "# Test I.2 (10% of the total grade).\n",
    "\n",
    "rndm = np.random.RandomState(1234)\n",
    "\n",
    "vec = rndm.uniform(size=7)\n",
    "v1, h = householder(vec)\n",
    "vec = vec.reshape((vec.shape[0], 1))\n",
    "assert_allclose(np.dot(h, v1), vec)"
   ]
  },
  {
   "cell_type": "markdown",
   "metadata": {},
   "source": [
    "# Part II. Compute the $\\mathrm{QR}$ decomposition of a matrix.\n",
    "\n",
    "Given a rectangular $m\\times n$ matrix $\\mathbf{A}$, construct a Householder reflector matrix $\\mathbf{H}_1$ which transforms the first column of $\\mathbf{A}$ (and call the result $\\mathbf{A}^{(1)}$)\n",
    "\n",
    "$$\n",
    "\\mathbf{H}_1 \\mathbf{A} =%\n",
    "\\begin{pmatrix}\n",
    "\\times & \\times & \\times & \\dots & \\times \\\\\n",
    "0      & \\times & \\times & \\dots & \\times \\\\\n",
    "0      & \\times & \\times & \\dots & \\times \\\\\n",
    "&& \\dots&& \\\\\n",
    "0      & \\times & \\times & \\dots & \\times \\\\\n",
    "\\end{pmatrix}%\n",
    "\\equiv \\mathbf{A}^{(1)}\\;.\n",
    "$$\n",
    "\n",
    "Now consider the lower-right submatrix of $\\mathbf{A}^{(1)}$, and construct a Householder reflector which annihilates the second column of $\\mathbf{A}$:\n",
    "\n",
    "$$\n",
    "\\mathbf{H}_2 \\mathbf{A}^{(1)} =%\n",
    "\\begin{pmatrix}\n",
    "\\times & \\times & \\times & \\dots & \\times \\\\\n",
    "0      & \\times & \\times & \\dots & \\times \\\\\n",
    "0      & 0      & \\times & \\dots & \\times \\\\\n",
    "&& \\dots&& \\\\\n",
    "0      & 0      & \\times & \\dots & \\times \\\\\n",
    "\\end{pmatrix}%\n",
    "\\equiv \\mathbf{A}^{(2)} \\;.\n",
    "$$\n",
    "\n",
    "Repeating the process $n-1$ times, we obtain\n",
    "\n",
    "$$\n",
    "\\mathbf{H}_{n-1} \\cdots \\mathbf{H}_2 \\mathbf{H}_1 \\mathbf{A} = \\mathbf{R} \\;,\n",
    "$$\n",
    "\n",
    "with $\\mathbf{R}$ an upper triangular matrix. Since each $\\mathbf{H}_k$ is orthogonal, so is their product. The inverse of an orthogonal matrix is orthogonal. Hence the process generates the $\\mathrm{QR}$ decomposition of $\\mathbf{A}$. "
   ]
  },
  {
   "cell_type": "markdown",
   "metadata": {},
   "source": [
    "Write a function, which receives a recangular matrix, $A$, and returns the Q and R factors of the $QR$ factorization of $A$."
   ]
  },
  {
   "cell_type": "code",
   "execution_count": 117,
   "metadata": {},
   "outputs": [],
   "source": [
    "def qr_decomp(a):\n",
    "    \"\"\"Compute the QR decomposition of a matrix.\n",
    "    \n",
    "    Parameters\n",
    "    ----------\n",
    "    a : ndarray, shape(m, n)\n",
    "        The input matrix\n",
    "    \n",
    "    Returns\n",
    "    -------\n",
    "    q : ndarray, shape(m, m)\n",
    "        The orthogonal matrix\n",
    "    r : ndarray, shape(m, n)\n",
    "        The upper triangular matrix\n",
    "        \n",
    "    Examples\n",
    "    --------\n",
    "    >>> a = np.random.random(size=(3, 5))\n",
    "    >>> q, r = qr_decomp(a)\n",
    "    >>> np.assert_allclose(np.dot(q, r), a)\n",
    "    \n",
    "    \"\"\"\n",
    "    a1 = np.array(a, copy=True, dtype=float)\n",
    "    m, n = a1.shape\n",
    "    dim = max(n, m)\n",
    "    Q = np.eye(dim)\n",
    "    for i in range(n):\n",
    "        col = a1[i:, i]\n",
    "        Hcol, H = householder(col)\n",
    "        matr = np.eye(dim) #fill empty spaces with I matrices\n",
    "        matr[i:, i:] = H[:,:] #expand dims since each next H matrix is smaller then the previous one\n",
    "        a1 = matr @ a1 \n",
    "        Q = Q @ matr\n",
    "    return Q, a1"
   ]
  },
  {
   "cell_type": "code",
   "execution_count": 118,
   "metadata": {},
   "outputs": [],
   "source": [
    "# Might want to turn this on for prettier printing: zeros instead of `1e-16` etc\n",
    "\n",
    "np.set_printoptions(suppress=True)"
   ]
  },
  {
   "cell_type": "code",
   "execution_count": 119,
   "metadata": {},
   "outputs": [
    {
     "name": "stdout",
     "output_type": "stream",
     "text": [
      "Q: \n",
      "[[ 0.03996877  0.83611814  0.33730082  0.36831611 -0.22333909]\n",
      " [ 0.55260347 -0.19638016  0.35607705 -0.33260121 -0.64703153]\n",
      " [ 0.34938941  0.09561146 -0.81959218  0.29385966 -0.33271708]\n",
      " [ 0.53646211 -0.31305083  0.26763676  0.63436251  0.37438263]\n",
      " [ 0.53213471  0.39395293 -0.12679321 -0.51473331  0.52972337]] \n",
      "\n",
      "R: \n",
      "[[ 1.77145504  1.06347587  1.36290265  0.69797012  0.81301097]\n",
      " [ 0.          0.92398209  0.69369165  0.31329159  0.17499983]\n",
      " [ 0.          0.          0.39556159 -0.36050868 -0.31701935]\n",
      " [ 0.         -0.         -0.          0.3206718   0.24527222]\n",
      " [-0.         -0.          0.          0.         -0.13822886]] \n",
      "\n",
      "Q*R:\n",
      "[[0.07080288 0.81506401 0.76790496 0.2863545  0.19309431]\n",
      " [0.97891221 0.40622871 0.75776787 0.08915177 0.30988347]\n",
      " [0.61892762 0.45991048 0.21830943 0.66352023 0.6786827 ]\n",
      " [0.95031851 0.28126114 0.6198517  0.38329512 0.40036072]\n",
      " [0.94265271 0.92991787 0.94837513 0.37548586 0.34229612]] \n",
      "\n",
      "A: \n",
      "[[0.07080288 0.81506401 0.76790496 0.2863545  0.19309431]\n",
      " [0.97891221 0.40622871 0.75776787 0.08915177 0.30988347]\n",
      " [0.61892762 0.45991048 0.21830943 0.66352023 0.6786827 ]\n",
      " [0.95031851 0.28126114 0.6198517  0.38329512 0.40036072]\n",
      " [0.94265271 0.92991787 0.94837513 0.37548586 0.34229612]] \n",
      "\n",
      "Q*R and A are identical\n"
     ]
    }
   ],
   "source": [
    "#test\n",
    "rndm = np.random.RandomState(4321)\n",
    "a = rndm.uniform(size=(5, 5))\n",
    "q, r = qr_decomp(a)\n",
    "\n",
    "print(\"Q: \\n{0} \\n\".format(q))\n",
    "print(\"R: \\n{0} \\n\".format(r))\n",
    "print(\"Q*R:\\n{0} \\n\".format(np.dot(q,r)))\n",
    "print(\"A: \\n{0} \\n\".format(a))\n",
    "print(\"Q*R and A are identical\")"
   ]
  },
  {
   "cell_type": "code",
   "execution_count": 9,
   "metadata": {},
   "outputs": [],
   "source": [
    "# Test II.1 (20% of the total grade)\n",
    "\n",
    "rndm = np.random.RandomState(1234)\n",
    "a = rndm.uniform(size=(5, 3))\n",
    "q, r = qr_decomp(a)\n",
    "\n",
    "# test that Q is indeed orthogonal\n",
    "assert_allclose(np.dot(q, q.T), np.eye(5), atol=1e-10)\n",
    "\n",
    "# test the decomposition itself\n",
    "assert_allclose(np.dot(q, r), a)"
   ]
  },
  {
   "cell_type": "markdown",
   "metadata": {},
   "source": [
    "Now compare your decompositions to the library function (which actually wraps the corresponding LAPACK functions)"
   ]
  },
  {
   "cell_type": "code",
   "execution_count": 10,
   "metadata": {},
   "outputs": [
    {
     "name": "stdout",
     "output_type": "stream",
     "text": [
      "scipy: \n",
      "\n",
      "Q: \n",
      "[[-0.13665049  0.53601299  0.09369752  0.661619   -0.49749149]\n",
      " [-0.56035895  0.0935397   0.53326881 -0.52477245 -0.34276292]\n",
      " [-0.19725922  0.65948912 -0.60068463 -0.37879015  0.14784752]\n",
      " [-0.62498418 -0.50418303 -0.52144688  0.18967657 -0.21750907]\n",
      " [-0.48765568  0.12171264  0.27224305  0.32774225  0.75222783]] \n",
      "\n",
      "R: \n",
      "[[-1.40152769 -1.2514379  -0.89523615]\n",
      " [ 0.          0.84158252  0.68447942]\n",
      " [ 0.          0.         -0.5496046 ]\n",
      " [ 0.          0.          0.        ]\n",
      " [ 0.          0.          0.        ]] \n",
      "\n",
      "me: \n",
      "\n",
      "Q: \n",
      "[[ 0.13665049  0.53601299 -0.09369752  0.7697136   0.30459557]\n",
      " [ 0.56035895  0.0935397  -0.53326881  0.01839528 -0.62652547]\n",
      " [ 0.19725922  0.65948912  0.60068463 -0.32384673 -0.24589462]\n",
      " [ 0.62498418 -0.50418303  0.52144688  0.28453698  0.04822969]\n",
      " [ 0.48765568  0.12171264 -0.27224305 -0.47049398  0.67223293]] \n",
      "\n",
      "\n",
      "R: \n",
      "[[ 1.40152769  1.2514379   0.89523615]\n",
      " [-0.          0.84158252  0.68447942]\n",
      " [ 0.          0.          0.5496046 ]\n",
      " [ 0.         -0.          0.        ]\n",
      " [-0.         -0.         -0.        ]] \n",
      "\n"
     ]
    }
   ],
   "source": [
    "from scipy.linalg import qr\n",
    "qq, rr = qr(a)\n",
    "\n",
    "assert_allclose(np.dot(qq, rr), a)\n",
    "print(\"scipy: \\n\")\n",
    "print(\"Q: \\n{0} \\n\".format(qq))\n",
    "print(\"R: \\n{0} \\n\".format(rr))\n",
    "q, r = qr_decomp(a)\n",
    "print(\"me: \\n\")\n",
    "print(\"Q: \\n{0} \\n\".format(q))\n",
    "print()\n",
    "print(\"R: \\n{0} \\n\".format(r))"
   ]
  },
  {
   "cell_type": "markdown",
   "metadata": {},
   "source": [
    "Check if your `q` and `r` agree with `qq` and `rr`. Explain."
   ]
  },
  {
   "cell_type": "markdown",
   "metadata": {},
   "source": [
    "***My Q and R don't agree with scipy's QQ and RR because QR-decomposition of a matrix is not unique in that particular case and scipy probably uses some other version of an algorithm***"
   ]
  },
  {
   "cell_type": "markdown",
   "metadata": {},
   "source": [
    "# Part III. Avoid forming Householder matrices explicitly."
   ]
  },
  {
   "cell_type": "markdown",
   "metadata": {},
   "source": [
    "Note the special structure of the Householder matrices: A reflector $\\mathbf{H}$ is completely specified by a reflection vector $\\mathbf{u}$. Also note that the computational cost of applying a reflector to a matrix strongly depends on the order of operations:\n",
    "\n",
    "$$\n",
    "\\left( \\mathbf{u} \\mathbf{u}^T \\right) \\mathbf{A}  \\qquad \\textrm{is } O(m^2 n)\\;,\n",
    "$$\n",
    "while\n",
    "$$\n",
    "\\mathbf{u} \\left( \\mathbf{u}^T \\mathbf{A} \\right) \\qquad \\textrm{is } O(mn)\n",
    "$$\n",
    "\n",
    "Thus, it seems to make sense to *avoid* forming the $\\mathbf{H}$ matrices. Instead, one stores the reflection vectors, $\\mathbf{u}$, themselves, and provides a way of multiplying an arbitrary matrix by $\\mathbf{Q}^T$, e.g., as a standalone function (or a class)."
   ]
  },
  {
   "cell_type": "markdown",
   "metadata": {},
   "source": [
    "Write a function which constructs the `QR` decomposition of a matrix *without ever forming the* $\\mathbf{H}$ matrices, and returns the $\\mathbf{R}$ matrix and reflection vectors. \n",
    "\n",
    "Write a second function, which uses reflection vectors to multiply a matrix with $\\mathbf{Q}^T$. Make sure to include enough comments for a marker to follow your implementation, and add tests. \n",
    "\n",
    "(Peer-graded, 40% of the total grade)"
   ]
  },
  {
   "cell_type": "code",
   "execution_count": 114,
   "metadata": {},
   "outputs": [],
   "source": [
    "def householder_u(vec): #returns vector u instead of matrix H \n",
    "    \"\"\"Construct a Householder reflection to zero out 2nd and further components of a vector.\n",
    "\n",
    "    Parameters\n",
    "    ----------\n",
    "    vec : array-like of floats, shape (n,)\n",
    "        Input vector\n",
    "    \n",
    "    Returns\n",
    "    -------\n",
    "    outvec : array of floats, shape (n,)\n",
    "        Transformed vector, with ``outvec[1:]==0`` and ``|outvec| == |vec|``\n",
    "    H : array of floats, shape (n, n)\n",
    "        Orthogonal matrix of the Householder reflection\n",
    "    \"\"\"\n",
    "    vec = np.asarray(vec, dtype = float)\n",
    "    m = vec.shape[0]\n",
    "    if m == 1:\n",
    "        e = np.asarray([1])\n",
    "        e = e.reshape((e.shape[0], 1))\n",
    "        return np.asarray(vec), e\n",
    "    #print(vec)\n",
    "    vec = vec.reshape((m, 1)) #had to expand dims to use np.transpose\n",
    "    xlen = length(vec)\n",
    "    y = np.zeros(vec.shape, dtype = float)\n",
    "    y[0] = xlen\n",
    "    \n",
    "    numerator = 0 #avoiding the roundoff error\n",
    "    for xi in vec[1:]:\n",
    "        numerator -= (xi**2)\n",
    "    denominator = vec[0] + xlen\n",
    "    diff_x1_y = numerator/denominator\n",
    "    diff_rest = vec[1:]\n",
    "    diff = np.insert(diff_rest, 0, diff_x1_y)\n",
    "    difflen = length(diff)\n",
    "    \n",
    "    u = np.divide(diff, difflen)\n",
    "    u = u.reshape(m, 1)\n",
    "    \n",
    "    return y, u"
   ]
  },
  {
   "cell_type": "code",
   "execution_count": 128,
   "metadata": {},
   "outputs": [],
   "source": [
    "def qr_decomp_2(A): # I understand how to get R but I don't see how can we get Q from reflection vectors\n",
    "    A1 = np.array(A, copy=True, dtype=float)\n",
    "    m, n = np.shape(A1)\n",
    "    dim = max(m, n)\n",
    "    one = np.eye(dim, dtype = float)\n",
    "    u_arr = []\n",
    "    for i in range(n): \n",
    "        col = A1[i:, i]\n",
    "        ncol, u = householder_u(col) #get a reflection vector for each column of A\n",
    "        ncol = np.reshape(ncol, (ncol.shape[0], )) \n",
    "        A1[i:, i] = ncol #replace i-th column with new column \n",
    "        u_arr.append(u)\n",
    "        \n",
    "    return A1, u_arr\n",
    "\n",
    "def mul_Qt(A, u_arr):\n",
    "    pass\n",
    "    \n",
    "def rest(u, col):\n",
    "    m = u.shape[0]\n",
    "    one = np.ones((m,1))\n",
    "    utx = np.transpose(u) @ col\n",
    "    duutx = 2*u @ utx\n",
    "    return one - duutx\n",
    "\n",
    "        \n",
    "   "
   ]
  },
  {
   "cell_type": "code",
   "execution_count": 138,
   "metadata": {},
   "outputs": [
    {
     "name": "stdout",
     "output_type": "stream",
     "text": [
      "A matrix: \n",
      "[[0.07080288 0.81506401 0.76790496 0.2863545  0.19309431]\n",
      " [0.97891221 0.40622871 0.75776787 0.08915177 0.30988347]\n",
      " [0.61892762 0.45991048 0.21830943 0.66352023 0.6786827 ]\n",
      " [0.95031851 0.28126114 0.6198517  0.38329512 0.40036072]\n",
      " [0.94265271 0.92991787 0.94837513 0.37548586 0.34229612]]\n",
      "\n",
      "R matrix: \n",
      "[[1.77145504 0.81506401 0.76790496 0.2863545  0.19309431]\n",
      " [0.         1.1490842  0.75776787 0.08915177 0.30988347]\n",
      " [0.         0.         1.15381564 0.66352023 0.6786827 ]\n",
      " [0.         0.         0.         0.5365676  0.40036072]\n",
      " [0.         0.         0.         0.         0.34229612]]\n",
      "\n",
      "Array of reflection vectors:\n",
      "[[-0.69283159]\n",
      " [ 0.39880072]\n",
      " [ 0.25214598]\n",
      " [ 0.38715188]\n",
      " [ 0.3840289 ]] \n",
      "\n",
      "[[-0.56854029]\n",
      " [ 0.35198991]\n",
      " [ 0.21526164]\n",
      " [ 0.71170744]] \n",
      "\n",
      "[[-0.63670774]\n",
      " [ 0.42187253]\n",
      " [ 0.64546636]] \n",
      "\n",
      "[[-0.37792434]\n",
      " [ 0.92583648]] \n",
      "\n",
      "[[1]] \n",
      "\n"
     ]
    }
   ],
   "source": [
    "n = 5\n",
    "rndm = np.random.RandomState(4321)\n",
    "A = rndm.uniform(size=(n, n))\n",
    "R, u_arr = qr_decomp_2(A)\n",
    "print(\"A matrix: \\n{0}\\n\".format(A))\n",
    "print(\"R matrix: \\n{0}\\n\".format(R))\n",
    "print(\"Array of reflection vectors:\")\n",
    "for u in u_arr:\n",
    "    print(\"{0} \\n\".format(u))\n"
   ]
  },
  {
   "cell_type": "code",
   "execution_count": 146,
   "metadata": {},
   "outputs": [
    {
     "data": {
      "text/plain": [
       "array([[4.78408389, 2.20120439, 2.0738442 , 0.77334391, 0.52148057],\n",
       "       [0.03735607, 2.0198756 , 1.3368733 , 0.16141723, 0.54415403],\n",
       "       [0.67505258, 0.93120672, 2.93510719, 1.44151925, 1.5545423 ],\n",
       "       [0.08800853, 0.86638506, 1.02140893, 0.94934808, 0.95204357],\n",
       "       [0.10158815, 0.12727198, 0.15670883, 0.39201779, 0.42582142]])"
      ]
     },
     "execution_count": 146,
     "metadata": {},
     "output_type": "execute_result"
    }
   ],
   "source": [
    "def cheto(A, u_arr): \n",
    "    A1 = np.array(A, copy=True, dtype=float)\n",
    "    m, n = np.shape(A1)\n",
    "    dim = max(m, n)\n",
    "    Q = np.eye(m, dtype = float)\n",
    "    for i in range(n): \n",
    "        col = A1[i:, i]\n",
    "        col = np.reshape(col, (col.shape[0], 1))\n",
    "        newcol = rest(u_arr[i], col)\n",
    "        newcol = np.reshape(newcol, (col.shape[0], ))\n",
    "        Q[i:, i] = newcol\n",
    "    return Q"
   ]
  },
  {
   "cell_type": "code",
   "execution_count": 147,
   "metadata": {},
   "outputs": [
    {
     "name": "stdout",
     "output_type": "stream",
     "text": [
      "Qt @ A and R must be identical \n",
      "\n",
      "Qt @ A: \n",
      " [[0.54898508 2.45233177 2.25819744 1.06864892 0.82616283]\n",
      " [2.78947278 1.22371471 1.95056217 0.81554291 1.21837516]\n",
      " [1.60786455 1.04508742 0.70713456 1.44934093 1.48346201]\n",
      " [1.68467612 0.90511759 1.30713158 0.67653994 0.67549376]\n",
      " [0.29731999 0.29330332 0.29912488 0.11843116 0.10796285]]\n",
      "R:  [[1.77145504 0.81506401 0.76790496 0.2863545  0.19309431]\n",
      " [0.         1.1490842  0.75776787 0.08915177 0.30988347]\n",
      " [0.         0.         1.15381564 0.66352023 0.6786827 ]\n",
      " [0.         0.         0.         0.5365676  0.40036072]\n",
      " [0.         0.         0.         0.         0.34229612]]\n"
     ]
    }
   ],
   "source": [
    "Q = cheto(A, u_arr)\n",
    "possibly_R = np.transpose(Q) @ A\n",
    "print(\"Qt @ A and R must be identical \\n\")\n",
    "print(\"Qt @ A: \\n\", possibly_R)\n",
    "print(\"R: \", R)"
   ]
  },
  {
   "cell_type": "markdown",
   "metadata": {},
   "source": [
    "***AT LEAST I TRIED***"
   ]
  }
 ],
 "metadata": {
  "kernelspec": {
   "display_name": "Python 3",
   "language": "python",
   "name": "python3"
  },
  "language_info": {
   "codemirror_mode": {
    "name": "ipython",
    "version": 3
   },
   "file_extension": ".py",
   "mimetype": "text/x-python",
   "name": "python",
   "nbconvert_exporter": "python",
   "pygments_lexer": "ipython3",
   "version": "3.7.9"
  }
 },
 "nbformat": 4,
 "nbformat_minor": 2
}
