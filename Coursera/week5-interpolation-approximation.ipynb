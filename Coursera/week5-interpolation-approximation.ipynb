{
 "cells": [
  {
   "cell_type": "markdown",
   "metadata": {},
   "source": [
    "# I. Linear least squares approximation"
   ]
  },
  {
   "cell_type": "markdown",
   "metadata": {},
   "source": [
    "Consider a function $y = f(x)$ which is defined by a set of values $y_0, y_1, \\cdots, y_n$ at points $x_0, x_1, \\cdots, x_n$."
   ]
  },
  {
   "cell_type": "code",
   "execution_count": 2,
   "metadata": {},
   "outputs": [],
   "source": [
    "x = [-1, -0.7, -0.43, -0.14, -0.14, 0.43, 0.71, 1, 1.29, 1.57, 1.86, 2.14, 2.43, 2.71, 3]\n",
    "y = [-2.25, -0.77, 0.21, 0.44, 0.64, 0.03, -0.22, -0.84, -1.2, -1.03, -0.37, 0.61, 2.67, 5.04, 8.90]"
   ]
  },
  {
   "cell_type": "markdown",
   "metadata": {},
   "source": [
    "### I.I. Find a best fit polynomial\n",
    "\n",
    "$$\n",
    "P_m(x) = a_0 + a_1 x + \\cdots + a_m x^m\n",
    "$$\n",
    "\n",
    "using the linear least squares approach. To this end\n",
    "\n",
    "1. implement a function which constructs the design matrix using $1, x, \\cdots, x^m$ as the basis functions.\n",
    "\n",
    "2. construct explicitly the normal system of equations of the linear least squares problem at fixed $m$.\n",
    "\n",
    "3. Solve the normal equations to find the coefficients of $P_m(x)$ for $m = 0, 1, 2, \\dots$. For the linear algebra problem, you can either use library functions (`numpy.linalg.solve`) or your LU factorization code from week 1.\n",
    "\n",
    "(20% of the total grade)"
   ]
  },
  {
   "cell_type": "code",
   "execution_count": 3,
   "metadata": {},
   "outputs": [],
   "source": [
    "import numpy as np\n",
    "\n",
    "def design_matrix(x, m):\n",
    "    n = len(x)\n",
    "    D = np.zeros((n, m+1)) \n",
    "    for i in range(n):\n",
    "        for j in range(m+1):\n",
    "            D[i][j] = x[i]**j\n",
    "    return D\n",
    "    "
   ]
  },
  {
   "cell_type": "code",
   "execution_count": 13,
   "metadata": {},
   "outputs": [
    {
     "data": {
      "text/plain": [
       "array([[  1.,   1.,   1.,   1.],\n",
       "       [  1.,   2.,   4.,   8.],\n",
       "       [  1.,   3.,   9.,  27.],\n",
       "       [  1.,   4.,  16.,  64.],\n",
       "       [  1.,   5.,  25., 125.]])"
      ]
     },
     "execution_count": 13,
     "metadata": {},
     "output_type": "execute_result"
    }
   ],
   "source": [
    "x_test = [1,2,3,4, 5]\n",
    "D = design_matrix(x_test, 3)\n",
    "D"
   ]
  },
  {
   "cell_type": "code",
   "execution_count": 5,
   "metadata": {},
   "outputs": [
    {
     "data": {
      "text/plain": [
       "array([ 0.49483598, -0.26983377, -2.01973166,  1.01540301])"
      ]
     },
     "execution_count": 5,
     "metadata": {},
     "output_type": "execute_result"
    }
   ],
   "source": [
    "D = design_matrix(x, 3)\n",
    "A = D.T @ D\n",
    "b = D.T @ y\n",
    "beta = np.linalg.solve(A, b)\n",
    "beta"
   ]
  },
  {
   "cell_type": "markdown",
   "metadata": {},
   "source": [
    "### I.II \n",
    "\n",
    "To find the optimal value of m, use the following criterion: take $m=0, 1, 2, \\dots$, for each value of $m$ compute \n",
    "\n",
    "$$\n",
    "\\sigma_m^2 = \\frac{1}{n - m} \\sum_{k=0}^n \\left( P_m(x_k) - y_k \\right)^2\n",
    "$$\n",
    "\n",
    "And take the value of $m$, at which $\\sigma_m$ stabilizes or starts increasing.\n",
    "\n",
    "(20% of the total grade)"
   ]
  },
  {
   "cell_type": "code",
   "execution_count": 6,
   "metadata": {},
   "outputs": [
    {
     "name": "stdout",
     "output_type": "stream",
     "text": [
      "Dispersion on m = 1: 4.450215866706205\n",
      "Dispersion on m = 2: 2.4534269975791783\n",
      "Dispersion on m = 3: 0.01247089909973165\n",
      "Dispersion on m = 4: 0.012460407583510042\n",
      "Dispersion on m = 5: 0.012600059280330578\n",
      "Dispersion on m = 6: 0.011590813700606611\n",
      "Dispersion on m = 7: 0.012289041756436829\n",
      "Dispersion on m = 8: 0.01156937152473263\n",
      "Dispersion on m = 9: 0.012931045181871444\n",
      "Dispersion on m = 10: 0.014257919592393146\n",
      "Dispersion on m = 11: 0.005379407710001037\n",
      "Dispersion on m = 12: 0.007129050690130868\n",
      "Dispersion on m = 13: 0.01004848402645803\n",
      "Dispersion on m = 14: 0.02000394654981088\n"
     ]
    }
   ],
   "source": [
    "n = len(x)\n",
    "for m in range(1, n): \n",
    "    D = design_matrix(x, m)\n",
    "    summ = 0\n",
    "    for k in range(n):\n",
    "        A = D.T @ D\n",
    "        b = D.T @ y\n",
    "        beta = np.linalg.solve(A, b)\n",
    "        Pm_xk = D[k] @ beta #k-th row of design matrix times vector of coefficients == P_m(x_k)\n",
    "        summ += (Pm_xk - y[k])**2\n",
    "    disp_m = (1/(n-m)) * summ \n",
    "    print(\"Dispersion on m = \" + str(m) + \": \" + str(disp_m))"
   ]
  },
  {
   "cell_type": "markdown",
   "metadata": {},
   "source": [
    "It seems that dispersion stabilizes at ~0.012. I will take $ \\sigma_m^2 = 0.012$  and  $m = 3$\n"
   ]
  },
  {
   "cell_type": "markdown",
   "metadata": {},
   "source": [
    "Plot your polynomials $P_m(x)$ on one plot, together with the datapoints. Visually compare best-fit polynomials of different degrees. Is the visual comparison consistent with the optimal value of $m$?"
   ]
  },
  {
   "cell_type": "markdown",
   "metadata": {
    "collapsed": true
   },
   "source": [
    "We need to take different to get visually different plots. Let's take m = 3, m = 4 and m = 11"
   ]
  },
  {
   "cell_type": "code",
   "execution_count": 9,
   "metadata": {},
   "outputs": [
    {
     "data": {
      "text/plain": [
       "<matplotlib.lines.Line2D at 0x2d059bdffc8>"
      ]
     },
     "execution_count": 9,
     "metadata": {},
     "output_type": "execute_result"
    },
    {
     "data": {
      "image/png": "[encoded data removed]",
      "text/plain": [
       "<Figure size 576x432 with 1 Axes>"
      ]
     },
     "metadata": {
      "needs_background": "light"
     },
     "output_type": "display_data"
    }
   ],
   "source": [
    "import matplotlib.pyplot as plt\n",
    "\n",
    "ams = [3, 4, 11]\n",
    "polynomials = []\n",
    "n = len(x)\n",
    "for m in ams: \n",
    "    D = design_matrix(x, m)\n",
    "    A = D.T @ D\n",
    "    b = D.T @ y\n",
    "    beta = np.linalg.solve(A, b)\n",
    "    p = np.poly1d(beta)\n",
    "    polynomials.append(p)\n",
    "\n",
    "pol3 = polynomials[0]\n",
    "pol4 = polynomials[1]\n",
    "pol11 = polynomials[2]\n",
    "\n",
    "x_s = np.arange(-1.1, 3.1, 0.01)\n",
    "p3_vals = [pol3(xi) for xi in x_s]\n",
    "p4_vals = [pol4(xi) for xi in x_s]\n",
    "p11_vals = [pol11(xi) for xi in x_s]\n",
    "\n",
    "fig, ax = plt.subplots(figsize=(8,6))\n",
    "ax.plot(x_s, p3_vals , color = 'blue')\n",
    "ax.plot(x_s, p4_vals, color = 'red')\n",
    "ax.plot(x_s, p11_vals, color = 'green')\n",
    "ax.scatter(x, y, color = 'brown')\n",
    "plt.ylim(-10, 20)  \n",
    "plt.xlim(-1.1, 3.1)\n",
    "plt.axhline(0, color='black')\n",
    "plt.axvline(0, color='black')\n"
   ]
  },
  {
   "cell_type": "code",
   "execution_count": 10,
   "metadata": {},
   "outputs": [
    {
     "data": {
      "text/plain": [
       "<matplotlib.lines.Line2D at 0x2d05a793fc8>"
      ]
     },
     "execution_count": 10,
     "metadata": {},
     "output_type": "execute_result"
    },
    {
     "data": {
      "image/png": "[encoded data removed]",
      "text/plain": [
       "<Figure size 576x432 with 1 Axes>"
      ]
     },
     "metadata": {
      "needs_background": "light"
     },
     "output_type": "display_data"
    }
   ],
   "source": [
    "pol3_scatter = [pol3(xk) for xk in x]\n",
    "pol4_scatter = [pol4(xk) for xk in x]\n",
    "pol11_scatter = [pol11(xk) for xk in x]\n",
    "fig, ax = plt.subplots(figsize=(8,6))\n",
    "ax.scatter(x, y, color = 'brown')\n",
    "ax.scatter(x, pol3_scatter, color = 'blue')\n",
    "ax.scatter(x, pol4_scatter, color = 'red')\n",
    "ax.scatter(x, pol11_scatter, color = 'green')\n",
    "plt.ylim(-10, 20)  \n",
    "plt.xlim(-1.1, 3.1)\n",
    "plt.axhline(0, color='black')\n",
    "plt.axvline(0, color='black')"
   ]
  },
  {
   "cell_type": "markdown",
   "metadata": {},
   "source": [
    "The visual comparison is somewhat consistent with the optimal value of $m$"
   ]
  },
  {
   "cell_type": "markdown",
   "metadata": {},
   "source": [
    "### I.III. Linear least-squares using the QR factorization.\n",
    "\n",
    "For the optimal value of $m$ from the previous part, solve the LLS problem using the QR factorization, withou ever forming the normal equations explicitly. For linear algebra, you can use standard library functions (look up `numpy.linalg.solve`, `numpy.linalg.qr` etc) or your code from previous weeks.\n",
    "\n",
    "Compare the results with the results of solving the normal system of equations.\n",
    "\n",
    "(20% of the grade)"
   ]
  },
  {
   "cell_type": "code",
   "execution_count": 216,
   "metadata": {},
   "outputs": [
    {
     "data": {
      "text/plain": [
       "array([ 0.49483598, -0.26983377, -2.01973166,  1.01540301])"
      ]
     },
     "execution_count": 216,
     "metadata": {},
     "output_type": "execute_result"
    }
   ],
   "source": [
    "m = 3\n",
    "\n",
    "D = design_matrix(x, m)\n",
    "Q, R = np.linalg.qr(D, mode = 'complete')\n",
    "y_new = Q.T @ y\n",
    "f = y_new[0:m+1]\n",
    "R1 = R[0:m+1]\n",
    "beta1 = np.linalg.solve(R1, f)\n",
    "beta1"
   ]
  },
  {
   "cell_type": "markdown",
   "metadata": {},
   "source": [
    "Let's check that both ways give us the same beta-vector. "
   ]
  },
  {
   "cell_type": "code",
   "execution_count": 217,
   "metadata": {},
   "outputs": [
    {
     "data": {
      "text/plain": [
       "array([ 0.49483598, -0.26983377, -2.01973166,  1.01540301])"
      ]
     },
     "execution_count": 217,
     "metadata": {},
     "output_type": "execute_result"
    }
   ],
   "source": [
    "D = design_matrix(x, m)\n",
    "A = D.T @ D\n",
    "b = D.T @ y\n",
    "beta2 = np.linalg.solve(A, b)\n",
    "beta2"
   ]
  },
  {
   "cell_type": "markdown",
   "metadata": {},
   "source": [
    "# II. Lagrange interpolation"
   ]
  },
  {
   "cell_type": "markdown",
   "metadata": {},
   "source": [
    "### II.1 \n",
    "\n",
    "Consider the function, $f(x) = x^2 \\cos{x}$. On the interval $x\\in [\\pi/2, \\pi]$, interpolate the function using the Lagrange interpolating polynomial of degree $m$ with $m=1, 2, 3, 4, 5$. Use the uniform mesh. Plot the resulting interpolants together with $f(x)$.\n",
    "\n",
    "(20% of the total grade)"
   ]
  },
  {
   "cell_type": "code",
   "execution_count": 218,
   "metadata": {},
   "outputs": [],
   "source": [
    "f = lambda x: (x**2)*np.cos(x)\n",
    "arr = []\n",
    "for i in range(5):\n",
    "    arr.append(np.linspace(np.pi/2, np.pi, i+1)) #starting with 3 points (1 + ends of the interval), ending with 7"
   ]
  },
  {
   "cell_type": "code",
   "execution_count": 219,
   "metadata": {},
   "outputs": [],
   "source": [
    "def lagrange_k(x, k, xval):\n",
    "    prod = 1\n",
    "    for x_i in x:\n",
    "        if x_i == x[k]:\n",
    "            continue\n",
    "        else:\n",
    "            prod *= (xval - x_i)/(x[k] - x_i)\n",
    "    return prod\n",
    "        \n",
    "def lagrange(x, y, xval):\n",
    "    summ = 0 \n",
    "    for i in range(len(x)):\n",
    "        summ += y[i]*lagrange_k(x, i, xval)\n",
    "    return summ "
   ]
  },
  {
   "cell_type": "markdown",
   "metadata": {},
   "source": [
    "Let's test our functions:"
   ]
  },
  {
   "cell_type": "code",
   "execution_count": 220,
   "metadata": {},
   "outputs": [
    {
     "name": "stdout",
     "output_type": "stream",
     "text": [
      "Arrays are equal\n"
     ]
    },
    {
     "name": "stderr",
     "output_type": "stream",
     "text": [
      "C:\\ProgramData\\Miniconda3\\lib\\site-packages\\numpy\\core\\_asarray.py:83: VisibleDeprecationWarning: Creating an ndarray from ragged nested sequences (which is a list-or-tuple of lists-or-tuples-or ndarrays with different lengths or shapes) is deprecated. If you meant to do this, you must specify 'dtype=object' when creating the ndarray\n",
      "  return array(a, dtype, copy=False, order=order)\n"
     ]
    }
   ],
   "source": [
    "res = [[] for m in range(5)] #array of results of sum of lagrange polynomials\n",
    "y_arr = [[] for m in range(5)]\n",
    "\n",
    "for m in range(5):   \n",
    "    y_s = [f(x_i) for x_i in arr[m]]\n",
    "    #print(arr[m])\n",
    "    y_arr[m] = y_s\n",
    "    for xval in arr[m]:\n",
    "        res[m].append(lagrange(arr[m], y_s, xval))\n",
    "        \n",
    "res = np.asarray(res)\n",
    "y_arr = np.asarray(y_arr)\n",
    "\n",
    "err = 0\n",
    "for res_i, y_i in zip(res, y_arr):\n",
    "    for res_i_j, y_i_j in zip(res_i, y_i):\n",
    "        if res_i_j != y_i_j:\n",
    "            err +=1\n",
    "            \n",
    "if err != 0:\n",
    "    print('Arrays are not equal')\n",
    "else:\n",
    "    print('Arrays are equal')"
   ]
  },
  {
   "cell_type": "code",
   "execution_count": 221,
   "metadata": {},
   "outputs": [
    {
     "data": {
      "text/plain": [
       "(1.5, 2.0)"
      ]
     },
     "execution_count": 221,
     "metadata": {},
     "output_type": "execute_result"
    },
    {
     "data": {
      "image/png": "[encoded data removed]",
      "text/plain": [
       "<Figure size 576x432 with 1 Axes>"
      ]
     },
     "metadata": {
      "needs_background": "light"
     },
     "output_type": "display_data"
    }
   ],
   "source": [
    "x_arr = np.arange(np.pi/2, np.pi, 0.01)\n",
    "p = []\n",
    "y_arr2 = [f(x_i) for x_i in x_arr]\n",
    "lag_arr1 = []\n",
    "lag_arr2 = []\n",
    "lag_arr3 = []\n",
    "lag_arr4 = []\n",
    "lag_arr5 = []\n",
    "for x_i in x_arr: \n",
    "    lag_arr1.append(lagrange(arr[0], y_arr[0], x_i))\n",
    "    lag_arr2.append(lagrange(arr[1], y_arr[1], x_i))\n",
    "    lag_arr3.append(lagrange(arr[2], y_arr[2], x_i))\n",
    "    lag_arr4.append(lagrange(arr[3], y_arr[3], x_i))\n",
    "    lag_arr5.append(lagrange(arr[4], y_arr[4], x_i))\n",
    "\n",
    "fig, ax = plt.subplots(figsize=(8,6))\n",
    "ax.plot(x_arr, y_arr2, color = 'red')\n",
    "ax.plot(x_arr, lag_arr1, color = 'yellow')\n",
    "ax.plot(x_arr, lag_arr2, color = 'blue')\n",
    "ax.plot(x_arr, lag_arr3, color = 'green')\n",
    "ax.plot(x_arr, lag_arr4, color = 'magenta')\n",
    "ax.plot(x_arr, lag_arr5, color = 'cyan')\n",
    "\n",
    "plt.ylim(-2.5, 1)  \n",
    "plt.xlim(1.5, 2)\n",
    "#plt.axhline(0, color='black')\n",
    "#plt.axvline(0, color='black')"
   ]
  },
  {
   "cell_type": "markdown",
   "metadata": {},
   "source": [
    "As we can see while looking closely, the plot of lagrange polynomial with 4 points is almost equal to the original plot (so close that we can't see the difference). Other polynomials are close enough, except for the one which interpolates based on 1 point."
   ]
  },
  {
   "cell_type": "markdown",
   "metadata": {},
   "source": [
    "### II.2. \n",
    "\n",
    "Repeat the previous task using the Chebyshev nodes. Compare the quality of interpolation on a uniform mesh and Chebyshev nodes for $m=3$.\n",
    "\n",
    "(20% of the total grade)"
   ]
  },
  {
   "cell_type": "code",
   "execution_count": 222,
   "metadata": {},
   "outputs": [],
   "source": [
    "def chebyshev_nodes(m):\n",
    "    return [np.cos(((2*k+1)/(2*m))*np.pi) for k in range(m)]"
   ]
  },
  {
   "cell_type": "markdown",
   "metadata": {},
   "source": [
    "Let's test our function on some $m$ and see that after scaling we still get a grid of Chebyshev's nodes"
   ]
  },
  {
   "cell_type": "code",
   "execution_count": 223,
   "metadata": {},
   "outputs": [
    {
     "data": {
      "text/plain": [
       "<matplotlib.collections.PathCollection at 0x20affd75088>"
      ]
     },
     "execution_count": 223,
     "metadata": {},
     "output_type": "execute_result"
    },
    {
     "data": {
      "image/png": "[encoded data removed]",
      "text/plain": [
       "<Figure size 576x432 with 1 Axes>"
      ]
     },
     "metadata": {
      "needs_background": "light"
     },
     "output_type": "display_data"
    }
   ],
   "source": [
    "x_cheb = chebyshev_nodes(15)\n",
    "#print(\"nodes before scaling:\", x_cheb)\n",
    "x_cheb_scaled = [(3*np.pi)/4 + (np.pi/4)*x_c for x_c in x_cheb]\n",
    "#print(\"nodes after scaling:\", x_cheb_scaled)\n",
    "fig, ax = plt.subplots(figsize= (8,6))\n",
    "x_cheb_scaled = np.asarray(x_cheb_scaled)\n",
    "y_cheb = np.zeros(x_cheb_scaled.shape)\n",
    "ax.scatter(x_cheb_scaled, y_cheb)"
   ]
  },
  {
   "cell_type": "code",
   "execution_count": 224,
   "metadata": {},
   "outputs": [
    {
     "data": {
      "text/plain": [
       "(2.8, 3.0)"
      ]
     },
     "execution_count": 224,
     "metadata": {},
     "output_type": "execute_result"
    },
    {
     "data": {
      "image/png": "[encoded data removed]",
      "text/plain": [
       "<Figure size 576x432 with 1 Axes>"
      ]
     },
     "metadata": {
      "needs_background": "light"
     },
     "output_type": "display_data"
    }
   ],
   "source": [
    "x_cheb1 = chebyshev_nodes(3) #m = 3\n",
    "x_cheb_scaled1 = [(3*np.pi)/4 + (np.pi/4)*x_c for x_c in x_cheb1]\n",
    "y_cheb = [f(x_c) for x_c in x_cheb_scaled1]\n",
    "\n",
    "cheb_arr3 = []\n",
    "for x_i in x_arr: \n",
    "    cheb_arr3.append(lagrange(x_cheb_scaled1, y_cheb, x_i))\n",
    "    \n",
    "fig, ax1 = plt.subplots(figsize=(8,6))\n",
    "ax1.plot(x_arr, lag_arr3, color = 'green') #uniform grid\n",
    "ax1.plot(x_arr, cheb_arr3, color = 'blue')\n",
    "ax1.plot(x_arr, y_arr2, color = 'red')\n",
    "plt.ylim(-8.2, -7.8)  \n",
    "plt.xlim(2.8, 3.0)"
   ]
  },
  {
   "cell_type": "markdown",
   "metadata": {},
   "source": [
    "As we can see, lagrange polynomials built on Chebyshev interpolates better (2x improvement)"
   ]
  },
  {
   "cell_type": "code",
   "execution_count": null,
   "metadata": {},
   "outputs": [],
   "source": []
  }
 ],
 "metadata": {
  "kernelspec": {
   "display_name": "Python 3",
   "language": "python",
   "name": "python3"
  },
  "language_info": {
   "codemirror_mode": {
    "name": "ipython",
    "version": 3
   },
   "file_extension": ".py",
   "mimetype": "text/x-python",
   "name": "python",
   "nbconvert_exporter": "python",
   "pygments_lexer": "ipython3",
   "version": "3.7.9"
  }
 },
 "nbformat": 4,
 "nbformat_minor": 2
}
