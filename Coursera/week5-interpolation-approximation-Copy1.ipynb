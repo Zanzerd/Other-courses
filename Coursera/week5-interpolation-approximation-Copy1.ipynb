{
 "cells": [
  {
   "cell_type": "markdown",
   "metadata": {},
   "source": [
    "# I. Linear least squares approximation"
   ]
  },
  {
   "cell_type": "markdown",
   "metadata": {},
   "source": [
    "Consider a function $y = f(x)$ which is defined by a set of values $y_0, y_1, \\cdots, y_n$ at points $x_0, x_1, \\cdots, x_n$."
   ]
  },
  {
   "cell_type": "code",
   "execution_count": 119,
   "metadata": {},
   "outputs": [],
   "source": [
    "x = [-1, -0.7, -0.43, -0.14, -0.14, 0.43, 0.71, 1, 1.29, 1.57, 1.86, 2.14, 2.43, 2.71, 3]\n",
    "y = [-2.25, -0.77, 0.21, 0.44, 0.64, 0.03, -0.22, -0.84, -1.2, -1.03, -0.37, 0.61, 2.67, 5.04, 8.90]"
   ]
  },
  {
   "cell_type": "markdown",
   "metadata": {},
   "source": [
    "### I.I. Find a best fit polynomial\n",
    "\n",
    "$$\n",
    "P_m(x) = a_0 + a_1 x + \\cdots + a_m x^m\n",
    "$$\n",
    "\n",
    "using the linear least squares approach. To this end\n",
    "\n",
    "1. implement a function which constructs the design matrix using $1, x, \\cdots, x^m$ as the basis functions.\n",
    "\n",
    "2. construct explicitly the normal system of equations of the linear least squares problem at fixed $m$.\n",
    "\n",
    "3. Solve the normal equations to find the coefficients of $P_m(x)$ for $m = 0, 1, 2, \\dots$. For the linear algebra problem, you can either use library functions (`numpy.linalg.solve`) or your LU factorization code from week 1.\n",
    "\n",
    "(20% of the total grade)"
   ]
  },
  {
   "cell_type": "code",
   "execution_count": 120,
   "metadata": {},
   "outputs": [],
   "source": [
    "import numpy as np\n",
    "\n",
    "def design_matrix(x, m):\n",
    "    n = len(x)\n",
    "    D = np.zeros((n, m+1)) \n",
    "    for i in range(n):\n",
    "        for j in range(m+1):\n",
    "            D[i][j] = x[i]**j\n",
    "    return D\n",
    "    "
   ]
  },
  {
   "cell_type": "code",
   "execution_count": 121,
   "metadata": {},
   "outputs": [
    {
     "data": {
      "text/plain": [
       "array([[ 1.,  1.,  1.,  1.],\n",
       "       [ 1.,  2.,  4.,  8.],\n",
       "       [ 1.,  3.,  9., 27.],\n",
       "       [ 1.,  4., 16., 64.]])"
      ]
     },
     "execution_count": 121,
     "metadata": {},
     "output_type": "execute_result"
    }
   ],
   "source": [
    "x_test = [1,2,3,4]\n",
    "D = design_matrix(x_test, 3)\n",
    "D"
   ]
  },
  {
   "cell_type": "code",
   "execution_count": 122,
   "metadata": {},
   "outputs": [
    {
     "data": {
      "text/plain": [
       "array([ 0.49483598, -0.26983377, -2.01973166,  1.01540301])"
      ]
     },
     "execution_count": 122,
     "metadata": {},
     "output_type": "execute_result"
    }
   ],
   "source": [
    "D = design_matrix(x, 3)\n",
    "A = D.T @ D\n",
    "b = D.T @ y\n",
    "beta = np.linalg.solve(A, b)\n",
    "beta"
   ]
  },
  {
   "cell_type": "markdown",
   "metadata": {},
   "source": [
    "### I.II \n",
    "\n",
    "To find the optimal value of m, use the following criterion: take $m=0, 1, 2, \\dots$, for each value of $m$ compute \n",
    "\n",
    "$$\n",
    "\\sigma_m^2 = \\frac{1}{n - m} \\sum_{k=0}^n \\left( P_m(x_k) - y_k \\right)^2\n",
    "$$\n",
    "\n",
    "And take the value of $m$, at which $\\sigma_m$ stabilizes or starts increasing.\n",
    "\n",
    "(20% of the total grade)"
   ]
  },
  {
   "cell_type": "code",
   "execution_count": 123,
   "metadata": {},
   "outputs": [
    {
     "name": "stdout",
     "output_type": "stream",
     "text": [
      "Dispersion on m = 1: 4.450215866706205\n",
      "Dispersion on m = 2: 2.4534269975791783\n",
      "Dispersion on m = 3: 0.01247089909973165\n",
      "Dispersion on m = 4: 0.012460407583510042\n",
      "Dispersion on m = 5: 0.012600059280330578\n",
      "Dispersion on m = 6: 0.011590813700606611\n",
      "Dispersion on m = 7: 0.012289041756436829\n",
      "Dispersion on m = 8: 0.01156937152473263\n",
      "Dispersion on m = 9: 0.012931045181871444\n",
      "Dispersion on m = 10: 0.014257919592393146\n",
      "Dispersion on m = 11: 0.005379407710001037\n",
      "Dispersion on m = 12: 0.007129050690130868\n",
      "Dispersion on m = 13: 0.01004848402645803\n",
      "Dispersion on m = 14: 0.02000394654981088\n"
     ]
    }
   ],
   "source": [
    "n = len(x)\n",
    "for m in range(1, n): \n",
    "    D = design_matrix(x, m)\n",
    "    summ = 0\n",
    "    for k in range(n):\n",
    "        A = D.T @ D\n",
    "        b = D.T @ y\n",
    "        beta = np.linalg.solve(A, b)\n",
    "        Pm_xk = D[k] @ beta #k-th row of design matrix times vector of coefficients == P_m(x_k)\n",
    "        summ += (Pm_xk - y[k])**2\n",
    "    disp_m = (1/(n-m)) * summ \n",
    "    print(\"Dispersion on m = \" + str(m) + \": \" + str(disp_m))"
   ]
  },
  {
   "cell_type": "markdown",
   "metadata": {},
   "source": [
    "It seems that dispersion stabilizes at ~0.012, but then it falls to 0.005 and after that rises again. I will take $ \\sigma_m^2 = 0.005$  and  $m = 11.$\n"
   ]
  },
  {
   "cell_type": "code",
   "execution_count": 124,
   "metadata": {},
   "outputs": [
    {
     "data": {
      "text/plain": [
       "array([21, 22, 23])"
      ]
     },
     "execution_count": 124,
     "metadata": {},
     "output_type": "execute_result"
    }
   ],
   "source": [
    "nArr2D = np.array(([21, 22, 23], [11, 22, 33], [43, 77, 89]))\n",
    "nArr2D[0]\n"
   ]
  },
  {
   "cell_type": "markdown",
   "metadata": {},
   "source": [
    "Plot your polynomials $P_m(x)$ on one plot, together with the datapoints. Visually compare best-fit polynomials of different degrees. Is the visual comparison consistent with the optimal value of $m$?"
   ]
  },
  {
   "cell_type": "markdown",
   "metadata": {
    "collapsed": true
   },
   "source": [
    "We need to take different to get visually different plots. Let's take m = 2, m = 11 and m = 14"
   ]
  },
  {
   "cell_type": "code",
   "execution_count": 125,
   "metadata": {},
   "outputs": [
    {
     "data": {
      "text/plain": [
       "<matplotlib.lines.Line2D at 0x13c3aaa4848>"
      ]
     },
     "execution_count": 125,
     "metadata": {},
     "output_type": "execute_result"
    },
    {
     "data": {
      "image/png": "[encoded data removed]",
      "text/plain": [
       "<Figure size 576x432 with 1 Axes>"
      ]
     },
     "metadata": {
      "needs_background": "light"
     },
     "output_type": "display_data"
    }
   ],
   "source": [
    "import matplotlib.pyplot as plt\n",
    "\n",
    "ams = [3, 12, 14]\n",
    "polynomials = []\n",
    "n = len(x)\n",
    "for m in ams: \n",
    "    D = design_matrix(x, m)\n",
    "    A = D.T @ D\n",
    "    b = D.T @ y\n",
    "    beta = np.linalg.solve(A, b)\n",
    "    P_m = D @ beta #design matrix times vector of coefficients == vector of values of P_m(x)\n",
    "    p = np.poly1d(P_m)\n",
    "    polynomials.append(p)\n",
    "\n",
    "pol8 = polynomials[0]\n",
    "pol11 = polynomials[1]\n",
    "pol13 = polynomials[2]\n",
    "\n",
    "x_s = np.arange(-1.1, 3.1, 0.01)\n",
    "p8_vals = [pol8(xi) for xi in x_s]\n",
    "p11_vals = [pol11(xi) for xi in x_s]\n",
    "p13_vals = [pol13(xi) for xi in x_s]\n",
    "\n",
    "fig, ax = plt.subplots(figsize=(8,6))\n",
    "ax.plot(x_s, p8_vals , color = 'blue')\n",
    "ax.plot(x_s, p11_vals, color = 'red')\n",
    "ax.plot(x_s, p13_vals, color = 'green')\n",
    "ax.scatter(x, y)\n",
    "plt.ylim(-10, 20)  \n",
    "plt.xlim(-1.1, 3.1)\n",
    "plt.axhline(0, color='black')\n",
    "plt.axvline(0, color='black')"
   ]
  },
  {
   "cell_type": "code",
   "execution_count": 126,
   "metadata": {},
   "outputs": [
    {
     "data": {
      "text/plain": [
       "<matplotlib.lines.Line2D at 0x13c3a67dc48>"
      ]
     },
     "execution_count": 126,
     "metadata": {},
     "output_type": "execute_result"
    },
    {
     "data": {
      "image/png": "[encoded data removed]",
      "text/plain": [
       "<Figure size 576x432 with 1 Axes>"
      ]
     },
     "metadata": {
      "needs_background": "light"
     },
     "output_type": "display_data"
    }
   ],
   "source": [
    "ld = [polynomials[0](xk) for xk in x]\n",
    "fig, ax = plt.subplots(figsize=(8,6))\n",
    "ax.scatter(x, ld, color = 'red')\n",
    "ax.scatter(x,y , color = 'blue')\n",
    "plt.ylim(-10, 20)  \n",
    "plt.xlim(-1.1, 3.1)\n",
    "plt.axhline(0, color='black')\n",
    "plt.axvline(0, color='black')"
   ]
  },
  {
   "cell_type": "markdown",
   "metadata": {},
   "source": [
    "### I.III. Linear least-squares using the QR factorization.\n",
    "\n",
    "For the optimal value of $m$ from the previous part, solve the LLS problem using the QR factorization, withou ever forming the normal equations explicitly. For linear algebra, you can use standard library functions (look up `numpy.linalg.solve`, `numpy.linalg.qr` etc) or your code from previous weeks.\n",
    "\n",
    "Compare the results with the results of solving the normal system of equations.\n",
    "\n",
    "(20% of the grade)"
   ]
  },
  {
   "cell_type": "code",
   "execution_count": null,
   "metadata": {
    "collapsed": true
   },
   "outputs": [],
   "source": [
    "# ... ENTER YOUR CODE HERE ..."
   ]
  },
  {
   "cell_type": "markdown",
   "metadata": {},
   "source": [
    "# II. Lagrange interpolation"
   ]
  },
  {
   "cell_type": "markdown",
   "metadata": {},
   "source": [
    "### II.1 \n",
    "\n",
    "Consider the function, $f(x) = x^2 \\cos{x}$. On the interval $x\\in [\\pi/2, \\pi]$, interpolate the function using the Lagrange interpolating polynomial of degree $m$ with $m=1, 2, 3, 4, 5$. Use the uniform mesh. Plot the resulting interpolants together with $f(x)$.\n",
    "\n",
    "(20% of the total grade)"
   ]
  },
  {
   "cell_type": "code",
   "execution_count": null,
   "metadata": {
    "collapsed": true
   },
   "outputs": [],
   "source": [
    "# ... ENTER YOUR CODE HERE ..."
   ]
  },
  {
   "cell_type": "markdown",
   "metadata": {},
   "source": [
    "### II.2. \n",
    "\n",
    "Repeat the previous task using the Chebyshev nodes. Compare the quality of interpolation on a uniform mesh and Chebyshev nodes for $m=3$.\n",
    "\n",
    "(20% of the total grade)"
   ]
  },
  {
   "cell_type": "code",
   "execution_count": null,
   "metadata": {
    "collapsed": true
   },
   "outputs": [],
   "source": [
    "# ... ENTER YOUR CODE HERE ..."
   ]
  }
 ],
 "metadata": {
  "kernelspec": {
   "display_name": "Python 3",
   "language": "python",
   "name": "python3"
  },
  "language_info": {
   "codemirror_mode": {
    "name": "ipython",
    "version": 3
   },
   "file_extension": ".py",
   "mimetype": "text/x-python",
   "name": "python",
   "nbconvert_exporter": "python",
   "pygments_lexer": "ipython3",
   "version": "3.7.9"
  }
 },
 "nbformat": 4,
 "nbformat_minor": 2
}
