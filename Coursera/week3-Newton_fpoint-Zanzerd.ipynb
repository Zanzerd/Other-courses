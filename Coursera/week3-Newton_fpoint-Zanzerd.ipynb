{
 "cells": [
  {
   "cell_type": "markdown",
   "metadata": {},
   "source": [
    "# Part I. Root-finding. Newton's iteration."
   ]
  },
  {
   "cell_type": "markdown",
   "metadata": {},
   "source": [
    "Write a function which performs Newton's iteration for a given function $f(x)$ with known derivative $f'(x)$. Your function should find the root of $f(x)$ with a predefined absolute accuracy $\\epsilon$. "
   ]
  },
  {
   "cell_type": "code",
   "execution_count": 42,
   "metadata": {},
   "outputs": [],
   "source": [
    "import numpy as np\n",
    "\n",
    "def newton_iteration(f, fder, x0, eps=1e-5, maxiter=1000):\n",
    "    \"\"\"Find a root of $f(x) = 0$ via Newton's iteration starting from x0.\n",
    "    \n",
    "    Parameters\n",
    "    ----------\n",
    "    f : callable\n",
    "        The function to find a root of.\n",
    "    fder : callable\n",
    "        The derivative of `f`.\n",
    "    x0 : float\n",
    "        Initial value for the Newton's iteration.\n",
    "    eps : float\n",
    "        The target accuracy. \n",
    "        The iteration stops when the distance between successive iterates is below `eps`.\n",
    "        Default is 1e-5.\n",
    "    maxiter : int\n",
    "        The maximum number of iterations (default is 1000.)\n",
    "        Iterations terminate if the number of iterations exceeds `maxiter`.\n",
    "        This parameter is only needed to avoid infinite loops if iterations wander off.\n",
    "        \n",
    "    Returns\n",
    "    -------\n",
    "    x : float\n",
    "        The estimate for the root.\n",
    "    niter : int\n",
    "        The number of iterations.\n",
    "    \"\"\"\n",
    "    i = 0\n",
    "    x_next = x0\n",
    "    while i < maxiter:\n",
    "        x_n = x_next\n",
    "        f_x_n = f(x_n)\n",
    "        fder_x_n = fder(x_n)\n",
    "        x_next = x_n - f_x_n/fder_x_n\n",
    "        i += 1\n",
    "        if np.linalg.norm(x_n - x_next) < eps:\n",
    "            break\n",
    "    return x_next, i"
   ]
  },
  {
   "cell_type": "markdown",
   "metadata": {},
   "source": [
    "### Test I.1 \n",
    "\n",
    "Test your implementation on a simple example, $f(x) = x^2 - 1$ or similar. (20% of the total grade)"
   ]
  },
  {
   "cell_type": "code",
   "execution_count": 50,
   "metadata": {},
   "outputs": [
    {
     "name": "stdout",
     "output_type": "stream",
     "text": [
      "Iteration №8, root = 1.0\n",
      "Iteration №8, root = 0.24999999999999897\n"
     ]
    }
   ],
   "source": [
    "def func1(x): #simple quadratic equation\n",
    "    return (4*x**2 - 5*x + 1) #two roots: x = 0.25, x = 1 \n",
    "\n",
    "def func1der(x):\n",
    "    return (8*x - 5)\n",
    "\n",
    "root, it = newton_iteration(func1, func1der, 5.0)\n",
    "print(\"Iteration №\" + str(it) + \", root = \" + str(root))\n",
    "\n",
    "root, it = newton_iteration(func1, func1der, -5.0)\n",
    "print(\"Iteration №\" + str(it) + \", root = \" + str(root))"
   ]
  },
  {
   "cell_type": "markdown",
   "metadata": {},
   "source": [
    "### Test I.2\n",
    "\n",
    "Now consider a function which has a multiple root. Take $f(x) = (x^2 - 1)^2$ as an example. Implement a modified Newton's iteraion,\n",
    "\n",
    "$$\n",
    "x_{n+1} = x_{n} - m \\frac{f(x_n)}{f'(x_n)}\n",
    "$$\n",
    "\n",
    "and vary $m= 1, 2, 3, 4, 5$. Check the number of iterations required for convergence within a fixed $\\epsilon$. Are your observations consistent with the expectation that the convergence is quadratic is $m$ equals the multiplicity of the root, and is linear otherwise? (40% of the total grade)"
   ]
  },
  {
   "cell_type": "code",
   "execution_count": 61,
   "metadata": {},
   "outputs": [],
   "source": [
    "import numpy as np\n",
    "\n",
    "def newton_iteration_m(f, fder, x0, m, eps=1e-5, maxiter=1000): #with a constant m \n",
    "    \n",
    "    i = 0\n",
    "    x_next = x0\n",
    "    while i < maxiter:\n",
    "        x_n = x_next\n",
    "        f_x_n = f(x_n)\n",
    "        fder_x_n = fder(x_n)\n",
    "        x_next = x_n - m*(f_x_n/fder_x_n)\n",
    "        i += 1\n",
    "        if np.linalg.norm(x_n - x_next) < eps:\n",
    "            break\n",
    "    return x_next, i"
   ]
  },
  {
   "cell_type": "code",
   "execution_count": 75,
   "metadata": {},
   "outputs": [
    {
     "name": "stdout",
     "output_type": "stream",
     "text": [
      "Iteration №6, m = 2, root = 1.0000000000107445\n",
      "Iteration №22, m = 1, root = 1.0000057377057807\n",
      "Iteration №18, m = 3, root = 0.9999980599836018\n"
     ]
    }
   ],
   "source": [
    "func2 = lambda x: (x**2 -1)**2\n",
    "der_func2 = lambda x: 4*x*(x**2 -1)\n",
    "m = 2\n",
    "\n",
    "root, it = newton_iteration_m(func2, der_func2, 5, m)\n",
    "print(\"Iteration №\" + str(it) + \", m = \" + str(m) + \", root = \" + str(root))\n",
    "\n",
    "m = 1\n",
    "root, it = newton_iteration_m(func2, der_func2, 5, m)\n",
    "print(\"Iteration №\" + str(it) + \", m = \" + str(m) + \", root = \" + str(root))\n",
    "\n",
    "m = 3\n",
    "root, it = newton_iteration_m(func2, der_func2, 5, m)\n",
    "print(\"Iteration №\" + str(it) + \", m = \" + str(m) + \", root = \" + str(root))"
   ]
  },
  {
   "cell_type": "code",
   "execution_count": 95,
   "metadata": {},
   "outputs": [
    {
     "name": "stdout",
     "output_type": "stream",
     "text": [
      "With starting point x0 = 2.5 and m = 3 after 5 iterations we get x = 1.0000024593948984\n",
      "With starting point x0 = 2.5 and m = 2 after 5 iterations we get x = 1.0000000000033555\n"
     ]
    }
   ],
   "source": [
    "\n",
    "m = 2\n",
    "root, it = newton_iteration_m(func2, der_func2, 2.5, m, maxiter = 5)\n",
    "\n",
    "m = 3\n",
    "root2, it2 = newton_iteration_m(func2, der_func2, 2.5, m)\n",
    "\n",
    "print(\"With starting point x0 = 2.5 and m = 3 after 5 iterations we get x = \" + str(root2))\n",
    "print(\"With starting point x0 = 2.5 and m = 2 after 5 iterations we get x = \" + str(root))"
   ]
  },
  {
   "cell_type": "markdown",
   "metadata": {},
   "source": [
    " My observations are consistent with the expectation mentioned above."
   ]
  },
  {
   "cell_type": "markdown",
   "metadata": {},
   "source": [
    "# Part II. Fixed-point iteration"
   ]
  },
  {
   "cell_type": "markdown",
   "metadata": {},
   "source": [
    "Consider the following equation:\n",
    "\n",
    "$$\n",
    "\\sqrt{x} = \\cos{x}\n",
    "$$\n",
    "\n",
    "Plot the left-hand side and right-hand side of this equation, and localize the root graphically. Estimate the location of the root by visual inspection of the plot.\n",
    "\n",
    "Write a function which finds the solution using fixed-point iteration up to a predefined accuracy $\\epsilon$. Compare the result to an estimate from a visual inspection.\n",
    "\n",
    "Next, rewrite the fixed-point problem in the form\n",
    "\n",
    "$$\n",
    "x = x - \\alpha f(x)\n",
    "$$\n",
    "\n",
    "where $\\alpha$ is the free parameter. Check the dependence of the number of iterations required for a given $\\epsilon$ on $\\alpha$. Compare your results to an expectation that the optimal value of $\\alpha$ is given by \n",
    "\n",
    "$$\n",
    "\\alpha = \\frac{2}{m + M}\n",
    "$$\n",
    "\n",
    "where $0 < m < |f'(x)| < M$ over the localization interval. (40% of the total grade)"
   ]
  },
  {
   "cell_type": "code",
   "execution_count": 106,
   "metadata": {},
   "outputs": [
    {
     "data": {
      "text/plain": [
       "(0.0, 1.5, 0.0, 1.5)"
      ]
     },
     "execution_count": 106,
     "metadata": {},
     "output_type": "execute_result"
    },
    {
     "data": {
      "image/png": "[encoded data removed]",
      "text/plain": [
       "<Figure size 432x288 with 1 Axes>"
      ]
     },
     "metadata": {
      "needs_background": "light"
     },
     "output_type": "display_data"
    }
   ],
   "source": [
    "import matplotlib.pyplot as plt\n",
    "import math\n",
    "\n",
    "t = np.arange(0.0, 1.5, 0.01)\n",
    "cost = np.cos(t)\n",
    "sqrtt = np.sqrt(t)\n",
    "plt.plot(t, cost, 'r-', t, sqrtt, 'b-')\n",
    "plt.axis([0,1.5, 0,1.5])\n"
   ]
  },
  {
   "cell_type": "markdown",
   "metadata": {},
   "source": [
    "Inspecting the plot i can say that the root is somewhere near 0.6, probably 0.62 or something"
   ]
  },
  {
   "cell_type": "markdown",
   "metadata": {},
   "source": [
    "We search for a root of $$ f(x) = \\sqrt{x} - \\cos{x}  $$ Rewrite the equation as: $$ x = x - \\sqrt{x} + \\cos{x}  $$"
   ]
  },
  {
   "cell_type": "code",
   "execution_count": 148,
   "metadata": {},
   "outputs": [],
   "source": [
    "def fixed_point(f, x0, eps = 1e-5, maxiter = 1000):\n",
    "    x_next = x0\n",
    "    i = 0\n",
    "    while i < maxiter: \n",
    "        x_n = x_next\n",
    "        x_next = f(x_n)\n",
    "        i+=1\n",
    "        if np.linalg.norm(x_n - x_next) < eps:\n",
    "            break\n",
    "    return i, x_next"
   ]
  },
  {
   "cell_type": "code",
   "execution_count": 150,
   "metadata": {},
   "outputs": [
    {
     "name": "stdout",
     "output_type": "stream",
     "text": [
      "Iteration №9, root = 0.6417126152285205\n"
     ]
    }
   ],
   "source": [
    "import math\n",
    "\n",
    "\n",
    "func3 = lambda x: x - math.sqrt(x) + math.cos(x) #define phi at once (not f)\n",
    "\n",
    "it, root = fixed_point(func3, 1.57) #~pi/2 is a good starting point because abs(pi/2(pi/2 - sqrt(pi/2) + cos(pi/2)) < 1\n",
    "print(\"Iteration №\" + str(it) + \", root = \" + str(root))"
   ]
  },
  {
   "cell_type": "code",
   "execution_count": 198,
   "metadata": {},
   "outputs": [],
   "source": [
    "def fixed_point_2(f, x0, a, eps = 1e-5, maxiter = 1000):\n",
    "    x_next = x0\n",
    "    i = 0\n",
    "    while i < maxiter:\n",
    "        x_n = x_next\n",
    "        x_next = x_n - a*f(x_n)\n",
    "        i += 1 \n",
    "        if np.linalg.norm(x_n - x_next) < eps:\n",
    "            break\n",
    "    return i, x_next"
   ]
  },
  {
   "cell_type": "code",
   "execution_count": 217,
   "metadata": {},
   "outputs": [
    {
     "name": "stdout",
     "output_type": "stream",
     "text": [
      "Iteration №13, root = 0.6417175990407822\n"
     ]
    }
   ],
   "source": [
    "func4 = lambda x: math.sqrt(x) - math.cos(x)\n",
    "\n",
    "it, root = fixed_point_2(func4, 1.57, 0.5) \n",
    "\n",
    "print(\"Iteration №\" + str(it) + \", root = \" + str(root))"
   ]
  },
  {
   "cell_type": "code",
   "execution_count": null,
   "metadata": {},
   "outputs": [],
   "source": []
  },
  {
   "cell_type": "markdown",
   "metadata": {},
   "source": [
    "The derivative of $$f(x) = \\sqrt{x} - \\cos{x} $$ is $$\\frac{1}{2\\sqrt{x}} + \\sin{x} $$ \n",
    "It has no global maximums or minimums but we'll take a local maximum at ~1.42 and a local minimum at ~0.42\n",
    "\n",
    "Then $$ \\alpha = \\frac{2}{m + M} = 1,08... $$"
   ]
  },
  {
   "cell_type": "code",
   "execution_count": 218,
   "metadata": {},
   "outputs": [
    {
     "name": "stdout",
     "output_type": "stream",
     "text": [
      "Iteration №12, root = 0.6417158972596525\n"
     ]
    }
   ],
   "source": [
    "it, root = fixed_point_2(func4, 1.57, 1.08) \n",
    "\n",
    "print(\"Iteration №\" + str(it) + \", root = \" + str(root))"
   ]
  },
  {
   "cell_type": "markdown",
   "metadata": {},
   "source": [
    "For different alphas: "
   ]
  },
  {
   "cell_type": "code",
   "execution_count": 223,
   "metadata": {},
   "outputs": [
    {
     "name": "stdout",
     "output_type": "stream",
     "text": [
      "Iteration №13, root = 0.6417175990407822alpha = 0.5\n",
      "Iteration №10, root = 0.641715461557739alpha = 0.6\n",
      "Iteration №7, root = 0.6417148122606119alpha = 0.7\n",
      "Iteration №5, root = 0.6417143472291544alpha = 0.7999999999999999\n",
      "Iteration №7, root = 0.6417142103484347alpha = 0.8999999999999999\n",
      "Iteration №9, root = 0.6417126152285205alpha = 0.9999999999999999\n",
      "Iteration №13, root = 0.6417130829141894alpha = 1.0999999999999999\n"
     ]
    }
   ],
   "source": [
    "alphas = np.arange(0.5, 1.2, 0.1)\n",
    "for alpha in alphas:\n",
    "    it, root = fixed_point_2(func4, 1.57, alpha) \n",
    "    print(\"Iteration №\" + str(it) + \", root = \" + str(root) + \"alpha = \" + str(alpha))"
   ]
  },
  {
   "cell_type": "markdown",
   "metadata": {},
   "source": [
    "The method behaves somewhat well around the point 1.08 but it behaves better with many other alphas. We can't know for sure since we can't know supremums or infimums of the derivative of f(x)"
   ]
  },
  {
   "cell_type": "markdown",
   "metadata": {},
   "source": [
    "# Part III. Newton's fractal.\n",
    "\n",
    "(Not graded). \n",
    "\n",
    "Consider the equation\n",
    "\n",
    "$$\n",
    "x^3 = 1\n",
    "$$\n",
    "\n",
    "It has three solutions in the complex plane, $x_k = \\exp(i\\, 2\\pi k/ 3)$, $k = 0, 1, 2$.\n",
    "\n",
    "The Newton's iterations converge to one of these solutions, depending on the starting point in the complex plane (to converge to a complex-valued solution, the iteration needs a complex-valued starting point).\n",
    "\n",
    "Plot the \\emph{basins of attraction} of these roots on the complex plane of $x$ (i.e., on the plane $\\mathrm{Re}x$ -- $\\mathrm{Im}x$). To this end, make a series of calculations, varying the initial conditions on a grid of points. \n",
    "Color the grid in three colors, according to the root, to which iterations converged."
   ]
  },
  {
   "cell_type": "markdown",
   "metadata": {
    "collapsed": true
   },
   "source": [
    "Sounds interesting but I don't have time for it"
   ]
  }
 ],
 "metadata": {
  "kernelspec": {
   "display_name": "Python 3",
   "language": "python",
   "name": "python3"
  },
  "language_info": {
   "codemirror_mode": {
    "name": "ipython",
    "version": 3
   },
   "file_extension": ".py",
   "mimetype": "text/x-python",
   "name": "python",
   "nbconvert_exporter": "python",
   "pygments_lexer": "ipython3",
   "version": "3.7.9"
  }
 },
 "nbformat": 4,
 "nbformat_minor": 2
}
